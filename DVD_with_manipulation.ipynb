{
  "nbformat": 4,
  "nbformat_minor": 0,
  "metadata": {
    "colab": {
      "name": "DVD_without_manipulation.ipynb",
      "provenance": []
    },
    "kernelspec": {
      "name": "python3",
      "display_name": "Python 3"
    },
    "language_info": {
      "name": "python"
    }
  },
  "cells": [
    {
      "cell_type": "code",
      "execution_count": null,
      "metadata": {
        "id": "cAkZgbgi4X9n"
      },
      "outputs": [],
      "source": [
        "import csv\n",
        "import os\n",
        "import time\n",
        "import numpy as np\n",
        "import re\n",
        "import joblib\n",
        "from string import punctuation\n",
        "from sklearn.cluster import DBSCAN\n",
        "import pickle as pk\n",
        "from gensim.models.doc2vec import Doc2Vec\n",
        "from gensim.models.doc2vec import TaggedDocument\n",
        "#from Analyse import dbScan, IForest, filter_out, MCD,MCD_filter_out,dbScan1,IForest1,MCD1\n",
        "import matplotlib.pyplot as plt\n",
        "from matplotlib.pylab import mpl\n",
        "import warnings"
      ]
    },
    {
      "cell_type": "code",
      "source": [
        "\n",
        "warnings.filterwarnings('ignore')\n",
        "\n",
        "add_punc = '!,;:?\"\\'、，；().’‘“”'\n",
        "all_punc = punctuation + add_punc\n",
        "\n",
        "def removePunctuation(text):\n",
        "    text = re.sub(r'[{}]+'.format(all_punc),' ',text)\n",
        "    return text.strip().split()\n"
      ],
      "metadata": {
        "id": "6xg7UU814bGJ"
      },
      "execution_count": null,
      "outputs": []
    },
    {
      "cell_type": "code",
      "source": [
        "import numpy as np\n",
        "from sklearn.cluster import DBSCAN\n",
        "from sklearn.ensemble import IsolationForest\n",
        "import matplotlib.pyplot as plt\n",
        "from matplotlib.pylab import mpl\n",
        "from sklearn.covariance import EllipticEnvelope\n",
        "from numpy import quantile, where, random\n",
        "\n",
        "def dbScan(data_x, data_y,name, eps, minpoint, flag=True): # DBSCAN\n",
        "\n",
        "    plt.clf()\n",
        "    data_y = np.array(data_y).reshape(-1, 1).astype('float32')\n",
        "    db = DBSCAN(eps=eps, min_samples=minpoint).fit(data_y)\n",
        "\n",
        "    labels = db.labels_\n",
        "    output = labels\n",
        "\n",
        "    minn = min(output)\n",
        "    if minn < 0:\n",
        "        output = output + -1*minn\n",
        "    maxn = max(output)\n",
        "\n",
        "    X, Y = [], []\n",
        "    for i in range(maxn+1):\n",
        "        X.append([])\n",
        "        Y.append([])\n",
        "    length = len(data_x)\n",
        "    mpl.rcParams['axes.unicode_minus'] = False  #\n",
        "    for i in range(length):\n",
        "        X[output[i]].append(data_x[i])\n",
        "        Y[output[i]].append(data_y[i])\n",
        "\n",
        "    if flag == False:\n",
        "        for i in range(maxn + 1):\n",
        "            plt.scatter(X[i], Y[i], s=10)\n",
        "\n",
        "    index = 0\n",
        "    for i in range(maxn + 1):\n",
        "        if len(X[index]) <= len(X[i]):\n",
        "            index = i\n",
        "    plt.plot(X[index], Y[index])\n",
        "    plt.xticks(rotation=90)\n",
        "    plt.title(name+' '+'DBSCAN')\n",
        "    plt.xlabel(\"Date\")\n",
        "    plt.ylabel(\"Price\")\n",
        "    plt.savefig('DBSCAN')\n",
        "    #print(img_path)\n",
        "    plt.show()\n",
        "\n",
        "def MCD(data_x, data_y, name,contamination=0.02, flag=True):\n",
        "    '''\n",
        "    :param data_x:\n",
        "    :param data_y:\n",
        "    :param samples:\n",
        "    :return:\n",
        "    '''\n",
        "    plt.clf()\n",
        "    data_y = np.array(data_y).reshape(-1, 1).astype('float32')\n",
        "    #     clf = IsolationForest(max_samples=samples, random_state=42)\n",
        "    #     clf.fit(data_y)\n",
        "    elenv =     EllipticEnvelope(assume_centered=False, contamination=contamination, random_state=None,\n",
        "                     store_precision=True, support_fraction=None)\n",
        "    #data_y = np.array(data_y).reshape(-1, 1).astype('float32')\n",
        "    #clf = IsolationForest(max_samples=samples, random_state=42)\n",
        "    #clf.fit(data_y)\n",
        "    output = elenv.fit_predict(data_y)\n",
        "    #output = clf.predict(data_y)\n",
        "    output[output<0] = 0\n",
        "    X, Y = [], []\n",
        "    for i in range(2):\n",
        "        X.append([])\n",
        "        Y.append([])\n",
        "    length = len(data_x)\n",
        "\n",
        "    for i in range(length):\n",
        "        X[output[i]].append(data_x[i])\n",
        "        Y[output[i]].append(data_y[i])\n",
        "\n",
        "    mpl.rcParams['axes.unicode_minus'] = False  #\n",
        "\n",
        "    if flag == True:\n",
        "        if len(X[1]) != 0:\n",
        "            plt.scatter(X[1], Y[1], s=10)\n",
        "        else:\n",
        "            plt.scatter(X[0], Y[0], s=10)\n",
        "    else:\n",
        "        for i in range(2):\n",
        "            plt.scatter(X[i], Y[i], s=10)\n",
        "        if len(X[1]) != 0:\n",
        "            plt.plot(X[1], Y[1])\n",
        "        else:\n",
        "            plt.plot(X[0], Y[0])\n",
        "    plt.xticks(rotation=90)\n",
        "    plt.title(name+' '+'MCD')\n",
        "    plt.xlabel(\"Date\")\n",
        "    plt.ylabel(\"Price\")\n",
        "    plt.savefig('MCD')\n",
        "    #print(img_path)\n",
        "    plt.show()\n",
        "\n",
        "def IForest(data_x, data_y,name, samples=5,flag=True):\n",
        "    '''\n",
        "    :param data_x:\n",
        "    :param data_y:\n",
        "    :param samples:\n",
        "    :return:\n",
        "    '''\n",
        "    plt.clf()\n",
        "    data_y = np.array(data_y).reshape(-1, 1).astype('float32')\n",
        "    clf = IsolationForest(max_samples=samples, random_state=42)\n",
        "    clf.fit(data_y)\n",
        "    output = clf.predict(data_y)\n",
        "    output[output<0] = 0\n",
        "    X, Y = [], []\n",
        "    for i in range(2):\n",
        "        X.append([])\n",
        "        Y.append([])\n",
        "    length = len(data_x)\n",
        "\n",
        "    for i in range(length):\n",
        "        X[output[i]].append(data_x[i])\n",
        "        Y[output[i]].append(data_y[i])\n",
        "\n",
        "    mpl.rcParams['axes.unicode_minus'] = False  #\n",
        "\n",
        "    if flag == True:\n",
        "        if len(X[1]) != 0:\n",
        "            plt.scatter(X[1], Y[1], s=10)\n",
        "        else:\n",
        "            plt.scatter(X[0], Y[0], s=10)\n",
        "    else:\n",
        "        for i in range(2):\n",
        "            plt.scatter(X[i], Y[i], s=10)\n",
        "        if len(X[1]) != 0:\n",
        "            plt.plot(X[1], Y[1])\n",
        "        else:\n",
        "            plt.plot(X[0], Y[0])\n",
        "    plt.xticks(rotation=90)\n",
        "    plt.title(name+' '+'IsolationForest')\n",
        "    plt.xlabel(\"Date\")\n",
        "    plt.ylabel(\"Price\")\n",
        "    plt.savefig('Iforest')\n",
        "    # print(img_path)\n",
        "    plt.show()"
      ],
      "metadata": {
        "id": "56FgUyzmU3ZL"
      },
      "execution_count": null,
      "outputs": []
    },
    {
      "cell_type": "code",
      "source": [
        "def readFile(path):\n",
        "    date, name, price, offer_price, description = [], [], [], [], []\n",
        "    with open(path, 'r', encoding='UTF-8') as f:\n",
        "        reader = csv.reader(f)\n",
        "        result = list(reader)\n",
        "        # print(result[0]) # header\n",
        "        # print(result[0][1]) # collection_date_of_price\n",
        "        # print(result[0][5]) # product_name\n",
        "        # print(result[0][8]) # price\n",
        "        # print(result[0][9]) # price_inc_offer\n",
        "        # print(result[0][-1]) # product_description\n",
        "        for i in range(1, len(result)):\n",
        "            temp = result[i][-1]\n",
        "            if temp != \"\":\n",
        "                date.append(result[i][1])\n",
        "                name.append(result[i][5])\n",
        "                price.append(result[i][8])\n",
        "                offer_price.append(result[i][9])\n",
        "                description.append(' '.join(removePunctuation(result[i][-1])))\n",
        "    return (date, name, price, offer_price, description)"
      ],
      "metadata": {
        "id": "_JcJxcTG4suN"
      },
      "execution_count": null,
      "outputs": []
    },
    {
      "cell_type": "code",
      "source": [
        "filepath = 'webscraped_DVDs.csv'\n",
        "commodity = readFile(filepath)"
      ],
      "metadata": {
        "id": "ZDZ-kZB84tf9"
      },
      "execution_count": null,
      "outputs": []
    },
    {
      "cell_type": "code",
      "source": [
        "\n",
        "def train_D2V(data):\n",
        "    time_start = time.time()\n",
        "    description = []\n",
        "    doc_dict = {}\n",
        "    index = 0\n",
        "    length = len(data)\n",
        "    print('train_model length:', length)\n",
        "\n",
        "    path = 'DVDs/model'\n",
        "    if not os.path.exists(path):\n",
        "        os.makedirs(path)\n",
        "\n",
        "    for i in range(length):\n",
        "        temp = removePunctuation(data[i])\n",
        "        doc_dict[index] = temp\n",
        "        # description.append(temp)\n",
        "        description.append(TaggedDocument(temp, tags=[index]))\n",
        "        index += 1\n",
        "\n",
        "    # description = [' '.join(i) for i in description]\n",
        "    model = Doc2Vec(description, vector_size=50, window=5, alpha=0.015) # changable: vector_size, window\n",
        "    model.train(description, epochs=20, total_examples=model.corpus_count) # changable: epochs\n",
        "    model.save(path + '/webscraped_DVDs')\n",
        "    time_end = time.time()\n",
        "    print('train_model times:', time_end-time_start)"
      ],
      "metadata": {
        "id": "hanfwEeR4zUl"
      },
      "execution_count": null,
      "outputs": []
    },
    {
      "cell_type": "code",
      "source": [
        "commodity_description = commodity[-1]\n",
        "train_D2V(commodity_description)"
      ],
      "metadata": {
        "colab": {
          "base_uri": "https://localhost:8080/"
        },
        "id": "ssI7QPnk45N9",
        "outputId": "6cf85454-c37e-42aa-f935-352d5d57c21a"
      },
      "execution_count": null,
      "outputs": [
        {
          "output_type": "stream",
          "name": "stdout",
          "text": [
            "train_model length: 82403\n"
          ]
        },
        {
          "output_type": "stream",
          "name": "stderr",
          "text": [
            "WARNING:gensim.models.base_any2vec:consider setting layer size to a multiple of 4 for greater performance\n",
            "WARNING:gensim.models.base_any2vec:Effective 'alpha' higher than previous training cycles\n"
          ]
        },
        {
          "output_type": "stream",
          "name": "stdout",
          "text": [
            "train_model times: 744.7863159179688\n"
          ]
        }
      ]
    },
    {
      "cell_type": "code",
      "source": [
        "def create_vector_file(path, commodity):\n",
        "    time_start = time.time()\n",
        "    (date, name, price, offer_price, description) = commodity\n",
        "    date_dict = {}\n",
        "    count = 0\n",
        "    for i in date:\n",
        "        temp_date = i[:-3]\n",
        "        if temp_date not in date_dict:\n",
        "            date_dict[temp_date] = count\n",
        "            count += 1\n",
        "\n",
        "    Data = []\n",
        "    for i in range(count):\n",
        "        Data.append([])\n",
        "    for i in Data:\n",
        "        for k in range(6):\n",
        "            i.append([])\n",
        "    length = len(date)\n",
        "\n",
        "    model = Doc2Vec.load(path)\n",
        "    doc_vector = []\n",
        "    doc_dicts = {}\n",
        "    for i in description:\n",
        "        if i not in doc_dicts:\n",
        "            doc_dicts[i] = model.infer_vector(i)\n",
        "\n",
        "    for i in range(length):\n",
        "        temp_date = date[i][:-3]\n",
        "        k = date_dict[temp_date]\n",
        "        Data[k][0].append(date[i])\n",
        "        Data[k][1].append(name[i])\n",
        "        Data[k][2].append(price[i])\n",
        "        Data[k][3].append(offer_price[i])\n",
        "        Data[k][4].append(description[i])\n",
        "        temp_vector = doc_dicts[description[i]]\n",
        "        Data[k][5].append(temp_vector)\n",
        "        doc_vector.append(temp_vector)\n",
        "    path = 'DVDs/'\n",
        "    for i in date_dict:\n",
        "        data_value = date_dict[i]\n",
        "        temp_path = path+str(i)\n",
        "        if not os.path.exists(temp_path):\n",
        "            os.makedirs(temp_path)\n",
        "        pickle_dict = {'date': Data[data_value][0], 'name': Data[data_value][1], 'price': Data[data_value][2],\n",
        "                       'offer_price': Data[data_value][3], 'description': Data[data_value][4], 'vector': Data[data_value][5]}\n",
        "        pk.dump(pickle_dict, open(temp_path + '/'+str(i)+'.pkl', 'wb'), protocol=4)\n",
        "\n",
        "    data_dict = {'vector': doc_vector}\n",
        "    pk.dump(data_dict, open(path + 'vector.pkl', 'wb'), protocol=4)\n",
        "    time_end = time.time()\n",
        "    print('create_vector_file times:', time_end - time_start)"
      ],
      "metadata": {
        "id": "UUAOlzjx496J"
      },
      "execution_count": null,
      "outputs": []
    },
    {
      "cell_type": "code",
      "source": [
        "path = 'DVDs/model/webscraped_DVDs'\n",
        "create_vector_file(path, commodity)"
      ],
      "metadata": {
        "colab": {
          "base_uri": "https://localhost:8080/"
        },
        "id": "0Vyox5xG5DSx",
        "outputId": "909fcfec-a183-4050-fc5e-6fb62fa843a3"
      },
      "execution_count": null,
      "outputs": [
        {
          "output_type": "stream",
          "name": "stdout",
          "text": [
            "create_vector_file times: 137.69693040847778\n"
          ]
        }
      ]
    },
    {
      "cell_type": "code",
      "source": [
        "\n",
        "def saveModel(model, save_path='model.pkl'):\n",
        "    joblib.dump(model, save_path)\n",
        "\n",
        "def loadModel(mode_path='model.pkl'):\n",
        "    model = joblib.load(mode_path)\n",
        "    return model\n",
        "\n",
        "def select_goods(path):\n",
        "    time_start = time.time()\n",
        "    data = pk.load(open(path, 'rb'))\n",
        "    data_y = data['vector']\n",
        "    data_y = np.array(data_y)\n",
        "    db = DBSCAN(eps=1, min_samples=3).fit(data_y) # changable: eps, min_samples\n",
        "    labels = db.labels_\n",
        "    output = labels\n",
        "    print(max(output))\n",
        "    time_end = time.time()\n",
        "    saveModel(db, 'DVDs/groups.pkl')\n",
        "    print('select_goods times:', time_end - time_start)"
      ],
      "metadata": {
        "id": "Snvcr2zY5Js_"
      },
      "execution_count": null,
      "outputs": []
    },
    {
      "cell_type": "code",
      "source": [
        "path = 'DVDs/vector.pkl'\n",
        "select_goods(path)"
      ],
      "metadata": {
        "colab": {
          "base_uri": "https://localhost:8080/"
        },
        "id": "3ze1zet15QVH",
        "outputId": "be4ce71d-d210-4dc1-d81c-ac3c2456395f"
      },
      "execution_count": null,
      "outputs": [
        {
          "output_type": "stream",
          "name": "stdout",
          "text": [
            "4010\n",
            "select_goods times: 104.6817090511322\n"
          ]
        }
      ]
    },
    {
      "cell_type": "code",
      "source": [
        "def work(number_): # Divide data into classes\n",
        "    # Date = ['2018-10', '2018-11', '2018-12', '2019-01', '2019-02', '2019-03', '2019-04']\n",
        "    Date = ['2018-10', '2018-11', '2018-12', '2019-01', '2019-02', '2019-03', '2019-04',\n",
        "            '2019-05', '2019-06', '2019-07', '2019-08', '2019-09', '2019-10', '2019-11',\n",
        "            '2019-12', '2020-01', '2020-02', '2020-03', '2020-04', '2020-05']\n",
        "    x, y, z = [], [], []\n",
        "    model = loadModel( 'DVDs/groups.pkl')\n",
        "    path = 'DVDs/'\n",
        "    for j in Date:\n",
        "        temp_path = path + str(j) + '/' + str(j) + '.pkl'\n",
        "        date = pk.load(open(temp_path, 'rb'))['date']\n",
        "        vector = pk.load(open(temp_path, 'rb'))['vector']\n",
        "        price = pk.load(open(temp_path, 'rb'))['price']\n",
        "        length = len(date)\n",
        "        for k in range(length):\n",
        "            x.append(date[k])\n",
        "            y.append(vector[k])\n",
        "            z.append(price[k])\n",
        "    y_pred = model.fit_predict(y)\n",
        "    minn = min(y_pred)\n",
        "    if minn < 0:\n",
        "        y_pred = y_pred + -1 * minn\n",
        "    maxn = max(y_pred)\n",
        "    temp = number_\n",
        "    #for temp in range(1, maxn+1):\n",
        "    data_x, data_y = [], []\n",
        "    for i in range(len(y_pred)):\n",
        "        if y_pred[i] == temp:\n",
        "            data_x.append(x[i][2:-3])\n",
        "            data_y.append(z[i])\n",
        "\n",
        "    img_path = 'DVDs/imgs/Good'+str(temp) + '.png'\n",
        "\n",
        "\n",
        "    dbScan(data_x, data_y,name='DBSCAN Good'+str(temp)+'.png', eps=0.5, minpoint=3, flag=False)\n",
        "    IForest(data_x, data_y, name='IF Good'+str(temp)+'.png', samples=10, flag=False)\n",
        "    MCD(data_x, data_y, name='MCD Good'+str(temp)+'.png', contamination=0.3, flag=False)"
      ],
      "metadata": {
        "id": "OcMsWMwX5ZA1"
      },
      "execution_count": null,
      "outputs": []
    },
    {
      "cell_type": "code",
      "source": [
        "work(1)"
      ],
      "metadata": {
        "colab": {
          "base_uri": "https://localhost:8080/",
          "height": 908
        },
        "id": "fWlBkMeL-_DH",
        "outputId": "bdc01c1d-99ac-4f55-aa3b-5223583d75b0"
      },
      "execution_count": null,
      "outputs": [
        {
          "output_type": "display_data",
          "data": {
            "text/plain": [
              "<Figure size 432x288 with 1 Axes>"
            ],
            "image/png": "[encoded data removed]"
          },
          "metadata": {
            "needs_background": "light"
          }
        },
        {
          "output_type": "display_data",
          "data": {
            "text/plain": [
              "<Figure size 432x288 with 1 Axes>"
            ],
            "image/png": "[encoded data removed]"
          },
          "metadata": {
            "needs_background": "light"
          }
        },
        {
          "output_type": "display_data",
          "data": {
            "text/plain": [
              "<Figure size 432x288 with 1 Axes>"
            ],
            "image/png": "[encoded data removed]"
          },
          "metadata": {
            "needs_background": "light"
          }
        }
      ]
    },
    {
      "cell_type": "code",
      "source": [
        "work(9)"
      ],
      "metadata": {
        "colab": {
          "base_uri": "https://localhost:8080/",
          "height": 908
        },
        "id": "3K_nSghD_bDH",
        "outputId": "8d89ec98-4e83-47c6-b378-0d6e037d2092"
      },
      "execution_count": null,
      "outputs": [
        {
          "output_type": "display_data",
          "data": {
            "text/plain": [
              "<Figure size 432x288 with 1 Axes>"
            ],
            "image/png": "[encoded data removed]"
          },
          "metadata": {
            "needs_background": "light"
          }
        },
        {
          "output_type": "display_data",
          "data": {
            "text/plain": [
              "<Figure size 432x288 with 1 Axes>"
            ],
            "image/png": "[encoded data removed]"
          },
          "metadata": {
            "needs_background": "light"
          }
        },
        {
          "output_type": "display_data",
          "data": {
            "text/plain": [
              "<Figure size 432x288 with 1 Axes>"
            ],
            "image/png": "[encoded data removed]"
          },
          "metadata": {
            "needs_background": "light"
          }
        }
      ]
    },
    {
      "cell_type": "code",
      "source": [
        "work(20)"
      ],
      "metadata": {
        "colab": {
          "base_uri": "https://localhost:8080/",
          "height": 908
        },
        "id": "5slyqof-_uh-",
        "outputId": "3aa91a09-3ad8-46bc-81ff-f386aceb7199"
      },
      "execution_count": null,
      "outputs": [
        {
          "output_type": "display_data",
          "data": {
            "text/plain": [
              "<Figure size 432x288 with 1 Axes>"
            ],
            "image/png": "[encoded data removed]"
          },
          "metadata": {
            "needs_background": "light"
          }
        },
        {
          "output_type": "display_data",
          "data": {
            "text/plain": [
              "<Figure size 432x288 with 1 Axes>"
            ],
            "image/png": "[encoded data removed]"
          },
          "metadata": {
            "needs_background": "light"
          }
        },
        {
          "output_type": "display_data",
          "data": {
            "text/plain": [
              "<Figure size 432x288 with 1 Axes>"
            ],
            "image/png": "[encoded data removed]"
          },
          "metadata": {
            "needs_background": "light"
          }
        }
      ]
    },
    {
      "cell_type": "code",
      "source": [
        "import numpy as np\n",
        "from sklearn.cluster import DBSCAN\n",
        "from sklearn.ensemble import IsolationForest\n",
        "import matplotlib.pyplot as plt\n",
        "from matplotlib.pylab import mpl\n",
        "from sklearn.covariance import EllipticEnvelope\n",
        "from numpy import quantile, where, random\n",
        "\n",
        "def dbScan1(data_x, data_y,name, eps, minpoint, flag=True): # DBSCAN\n",
        "\n",
        "    plt.clf()\n",
        "    data_y = np.array(data_y).reshape(-1, 1).astype('float32')\n",
        "    db = DBSCAN(eps=eps, min_samples=minpoint).fit(data_y)\n",
        "\n",
        "    labels = db.labels_\n",
        "    output = labels\n",
        "\n",
        "    minn = min(output)\n",
        "    if minn < 0:\n",
        "        output = output + -1*minn\n",
        "    maxn = max(output)\n",
        "\n",
        "    X, Y = [], []\n",
        "    for i in range(maxn+1):\n",
        "        X.append([])\n",
        "        Y.append([])\n",
        "    length = len(data_x)\n",
        "    mpl.rcParams['axes.unicode_minus'] = False  #\n",
        "    for i in range(length):\n",
        "        X[output[i]].append(data_x[i])\n",
        "        Y[output[i]].append(data_y[i])\n",
        "    print('The first item in the list was added to the list, after which the first item in the list was deleted.')\n",
        "    print('eps=1, minpoint=3')\n",
        "    X.append(X[0])\n",
        "    Y.append(Y[0])\n",
        "    X.pop(0)\n",
        "    Y.pop(0)\n",
        "    if flag == False:\n",
        "        for i in range(maxn + 1):\n",
        "            plt.scatter(X[i], Y[i], s=10)\n",
        "\n",
        "    index = 0\n",
        "    for i in range(maxn + 1):\n",
        "        if len(X[index]) <= len(X[i]):\n",
        "            index = i\n",
        "    plt.plot(X[index], Y[index])\n",
        "    plt.xticks(rotation=90)\n",
        "    plt.title(name+' '+'DBSCAN')\n",
        "    plt.xlabel(\"Date\")\n",
        "    plt.ylabel(\"Price\")\n",
        "    plt.savefig('DBSCAN')\n",
        "    #print(img_path)\n",
        "    plt.show()\n",
        "\n",
        "def MCD1(data_x, data_y, name,contamination=0.02, flag=True):\n",
        "    '''\n",
        "    :param data_x:\n",
        "    :param data_y:\n",
        "    :param samples:\n",
        "    :return:\n",
        "    '''\n",
        "    plt.clf()\n",
        "    data_y = np.array(data_y).reshape(-1, 1).astype('float32')\n",
        "\n",
        "    elenv =     EllipticEnvelope(assume_centered=False, contamination=contamination, random_state=None,\n",
        "                     store_precision=True, support_fraction=None)\n",
        "\n",
        "    output = elenv.fit_predict(data_y)\n",
        "\n",
        "    output[output<0] = 0\n",
        "    X, Y = [], []\n",
        "    for i in range(2):\n",
        "        X.append([])\n",
        "        Y.append([])\n",
        "    length = len(data_x)\n",
        "\n",
        "    for i in range(length):\n",
        "        X[output[i]].append(data_x[i])\n",
        "        Y[output[i]].append(data_y[i])\n",
        "\n",
        "    print(\"The first item in the list was added to the list, after which the first item in the list was deleted.\")\n",
        "    print(\"Samples=20\")\n",
        "    print(\"The orange dots are anomalies.\")\n",
        "\n",
        "    X.append(X[0])\n",
        "    Y.append(Y[0])\n",
        "    X.pop(0)\n",
        "    Y.pop(0)\n",
        "\n",
        "    mpl.rcParams['axes.unicode_minus'] = False  #\n",
        "\n",
        "    if flag == True:\n",
        "        if len(X[1]) != 0:\n",
        "            plt.scatter(X[1], Y[1], s=10)\n",
        "        else:\n",
        "            plt.scatter(X[0], Y[0], s=10)\n",
        "    else:\n",
        "        for i in range(2):\n",
        "            plt.scatter(X[i], Y[i], s=10)\n",
        "        if len(X[1]) != 0:\n",
        "            plt.plot(X[0], Y[0])\n",
        "        else:\n",
        "            plt.plot(X[1], Y[1])\n",
        "    plt.xticks(rotation=90)\n",
        "    plt.title(name+' '+'MCD')\n",
        "    plt.xlabel(\"Date\")\n",
        "    plt.ylabel(\"Price\")\n",
        "    plt.savefig('MCD')\n",
        "    #print(img_path)\n",
        "    plt.show()\n",
        "\n",
        "def IForest1(data_x, data_y,name, samples=5,flag=True):\n",
        "    '''\n",
        "    :param data_x:\n",
        "    :param data_y:\n",
        "    :param samples:\n",
        "    :return:\n",
        "    '''\n",
        "    plt.clf()\n",
        "    data_y = np.array(data_y).reshape(-1, 1).astype('float32')\n",
        "    clf = IsolationForest(max_samples=samples, random_state=42)\n",
        "    clf.fit(data_y)\n",
        "    output = clf.predict(data_y)\n",
        "    output[output<0] = 0\n",
        "    X, Y = [], []\n",
        "    for i in range(2):\n",
        "        X.append([])\n",
        "        Y.append([])\n",
        "    length = len(data_x)\n",
        "\n",
        "    for i in range(length):\n",
        "        X[output[i]].append(data_x[i])\n",
        "        Y[output[i]].append(data_y[i])\n",
        "    print(\"The first item in the list was added to the list, after which the first item in the list was deleted.\")\n",
        "    print(\"Samples=20\")\n",
        "    print(\"The orange dots are anomalies.\")\n",
        "    X.append(X[0])\n",
        "    Y.append(Y[0])\n",
        "    X.pop(0)\n",
        "    Y.pop(0)\n",
        "    mpl.rcParams['axes.unicode_minus'] = False  #\n",
        "\n",
        "    if flag == True:\n",
        "        if len(X[1]) != 0:\n",
        "            plt.scatter(X[1], Y[1], s=10)\n",
        "        else:\n",
        "            plt.scatter(X[0], Y[0], s=10)\n",
        "    else:\n",
        "        for i in range(2):\n",
        "            plt.scatter(X[i], Y[i], s=10)\n",
        "        if len(X[1]) != 0:\n",
        "            plt.plot(X[0], Y[0])\n",
        "        else:\n",
        "            plt.plot(X[1], Y[1])\n",
        "    plt.xticks(rotation=90)\n",
        "    plt.title(name+' '+'IsolationForest')\n",
        "    plt.xlabel(\"Date\")\n",
        "    plt.ylabel(\"Price\")\n",
        "    plt.savefig('Iforest')\n",
        "    # print(img_path)\n",
        "    plt.show()"
      ],
      "metadata": {
        "id": "EWDw1XSUbhbg"
      },
      "execution_count": null,
      "outputs": []
    },
    {
      "cell_type": "code",
      "source": [
        "def work1(number_): # Divide data into classes\n",
        "    # Date = ['2018-10', '2018-11', '2018-12', '2019-01', '2019-02', '2019-03', '2019-04']\n",
        "    Date = ['2018-10', '2018-11', '2018-12', '2019-01', '2019-02', '2019-03', '2019-04',\n",
        "            '2019-05', '2019-06', '2019-07', '2019-08', '2019-09', '2019-10', '2019-11',\n",
        "            '2019-12', '2020-01', '2020-02', '2020-03', '2020-04', '2020-05']\n",
        "    x, y, z = [], [], []\n",
        "    model = loadModel( 'DVDs/groups.pkl')\n",
        "    path = 'DVDs/'\n",
        "    for j in Date:\n",
        "        temp_path = path + str(j) + '/' + str(j) + '.pkl'\n",
        "        date = pk.load(open(temp_path, 'rb'))['date']\n",
        "        vector = pk.load(open(temp_path, 'rb'))['vector']\n",
        "        price = pk.load(open(temp_path, 'rb'))['price']\n",
        "        length = len(date)\n",
        "        for k in range(length):\n",
        "            x.append(date[k])\n",
        "            y.append(vector[k])\n",
        "            z.append(price[k])\n",
        "    y_pred = model.fit_predict(y)\n",
        "    minn = min(y_pred)\n",
        "    if minn < 0:\n",
        "        y_pred = y_pred + -1 * minn\n",
        "    maxn = max(y_pred)\n",
        "    temp = number_\n",
        "    #for temp in range(1, maxn+1):\n",
        "    data_x, data_y = [], []\n",
        "    for i in range(len(y_pred)):\n",
        "        if y_pred[i] == temp:\n",
        "            data_x.append(x[i][2:-3])\n",
        "            data_y.append(z[i])\n",
        "        new_data=[]\n",
        "    for i in range(len(data_y)):\n",
        "        new_data.append([data_x[i],data_y[i]])\n",
        "    list_18=[]\n",
        "    list_19=[]\n",
        "    list_20=[]\n",
        "    for i in range(len(new_data)):\n",
        "      if int(new_data[i][0][0:2])==18:\n",
        "        list_18.append(new_data[i])\n",
        "      if int(new_data[i][0][0:2])==19:\n",
        "        list_19.append(new_data[i])\n",
        "      if int(new_data[i][0][0:2])==20:\n",
        "        list_20.append(new_data[i])\n",
        "    \n",
        "    list_18_01=[]\n",
        "    list_18_02=[]\n",
        "    list_18_03=[]\n",
        "    list_18_04=[]\n",
        "    list_18_05=[]\n",
        "    list_18_06=[]\n",
        "    list_18_07=[]\n",
        "    list_18_08=[]\n",
        "    list_18_09=[]\n",
        "    list_18_10=[]\n",
        "    list_18_11=[]\n",
        "    list_18_12=[]\n",
        "\n",
        "    for i in range(len(list_18)):\n",
        "      if int(list_18[i][0][3:5])==int(0x1):\n",
        "        list_18_01.append(list_18[i])\n",
        "      elif int(list_18[i][0][3:5])==int(0x2):\n",
        "        list_18_02.append(list_18[i])\n",
        "      elif int(list_18[i][0][3:5])==int(0x3):\n",
        "        list_18_03.append(list_18[i])\n",
        "      elif int(list_18[i][0][3:5])==int(0x4):\n",
        "        list_18_04.append(list_18[i])  \n",
        "      elif int(list_18[i][0][3:5])==int(0x5):\n",
        "        list_18_05.append(list_18[i])\n",
        "      elif int(list_18[i][0][3:5])==int(0x6):\n",
        "        list_18_06.append(list_18[i])\n",
        "      elif int(list_18[i][0][3:5])==int(0x7):\n",
        "        list_18_07.append(list_18[i])\n",
        "      elif int(list_18[i][0][3:5])==int(0x8):\n",
        "        list_18_08.append(list_18[i])\n",
        "      elif int(list_18[i][0][3:5])==int(0x9):\n",
        "        list_18_09.append(list_18[i])\n",
        "      elif int(list_18[i][0][3:5])==10:\n",
        "        list_18_10.append(list_18[i])\n",
        "      elif int(list_18[i][0][3:5])==11:\n",
        "        list_18_11.append(list_18[i])\n",
        "      elif int(list_18[i][0][3:5])==12:\n",
        "        list_18_12.append(list_18[i])\n",
        "\n",
        "    list_19_01=[]\n",
        "    list_19_02=[]\n",
        "    list_19_03=[]\n",
        "    list_19_04=[]\n",
        "    list_19_05=[]\n",
        "    list_19_06=[]\n",
        "    list_19_07=[]\n",
        "    list_19_08=[]\n",
        "    list_19_09=[]\n",
        "    list_19_10=[]\n",
        "    list_19_11=[]\n",
        "    list_19_12=[]\n",
        "\n",
        "    for i in range(len(list_19)):\n",
        "      if int(list_19[i][0][3:5])==int(0x1):\n",
        "        list_19_01.append(list_19[i])\n",
        "      elif int(list_19[i][0][3:5])==int(0x2):\n",
        "        list_19_02.append(list_19[i])\n",
        "      elif int(list_19[i][0][3:5])==int(0x3):\n",
        "        list_19_03.append(list_19[i])\n",
        "      elif int(list_19[i][0][3:5])==int(0x4):\n",
        "        list_19_04.append(list_19[i])  \n",
        "      elif int(list_19[i][0][3:5])==int(0x5):\n",
        "        list_19_05.append(list_19[i])\n",
        "      elif int(list_19[i][0][3:5])==int(0x6):\n",
        "        list_19_06.append(list_19[i])\n",
        "      elif int(list_19[i][0][3:5])==int(0x7):\n",
        "        list_19_07.append(list_19[i])\n",
        "      elif int(list_19[i][0][3:5])==int(0x8):\n",
        "        list_19_08.append(list_19[i])\n",
        "      elif int(list_19[i][0][3:5])==int(0x9):\n",
        "        list_19_09.append(list_19[i])\n",
        "      elif int(list_19[i][0][3:5])==10:\n",
        "        list_19_10.append(list_19[i])\n",
        "      elif int(list_19[i][0][3:5])==11:\n",
        "        list_19_11.append(list_19[i])\n",
        "      elif int(list_19[i][0][3:5])==12:\n",
        "        list_19_12.append(list_19[i])\n",
        "\n",
        "\n",
        "    list_20_01=[]\n",
        "    list_20_02=[]\n",
        "    list_20_03=[]\n",
        "    list_20_04=[]\n",
        "    list_20_05=[]\n",
        "    list_20_06=[]\n",
        "    list_20_07=[]\n",
        "    list_20_08=[]\n",
        "    list_20_09=[]\n",
        "    list_20_10=[]\n",
        "    list_20_11=[]\n",
        "    list_20_12=[]\n",
        "\n",
        "    for i in range(len(list_20)):\n",
        "      if int(list_20[i][0][3:5])==int(0x1):\n",
        "        list_20_01.append(list_20[i])\n",
        "      elif int(list_20[i][0][3:5])==int(0x2):\n",
        "        list_20_02.append(list_20[i])\n",
        "      elif int(list_20[i][0][3:5])==int(0x3):\n",
        "        list_20_03.append(list_20[i])\n",
        "      elif int(list_20[i][0][3:5])==int(0x4):\n",
        "        list_20_04.append(list_20[i])  \n",
        "      elif int(list_20[i][0][3:5])==int(0x5):\n",
        "        list_20_05.append(list_20[i])\n",
        "      elif int(list_20[i][0][3:5])==int(0x6):\n",
        "        list_20_06.append(list_20[i])\n",
        "      elif int(list_20[i][0][3:5])==int(0x7):\n",
        "        list_20_07.append(list_20[i])\n",
        "      elif int(list_20[i][0][3:5])==int(0x8):\n",
        "        list_20_08.append(list_20[i])\n",
        "      elif int(list_20[i][0][3:5])==int(0x9):\n",
        "        list_20_09.append(list_20[i])\n",
        "      elif int(list_20[i][0][3:5])==10:\n",
        "        list_20_10.append(list_20[i])\n",
        "      elif int(list_20[i][0][3:5])==11:\n",
        "        list_20_11.append(list_20[i])\n",
        "      elif int(list_20[i][0][3:5])==12:\n",
        "        list_20_12.append(list_20[i])\n",
        "\n",
        "    new_data_x, new_data_y = [],[]\n",
        "    end_new_data=list_18_01+list_18_02+list_18_03+list_18_04+list_18_05+list_18_06+list_18_07+list_18_08+list_18_09+list_18_10+list_18_11+list_18_12+list_19_01+list_19_02+list_19_03+list_19_04+list_19_05+list_19_06+list_19_07+list_19_08+list_19_09+list_19_10+list_19_11+list_19_12+list_20_01\n",
        "    for i in range(len(end_new_data)):\n",
        "      new_data_x.append(end_new_data[i][0])\n",
        "      new_data_y.append(end_new_data[i][1])\n",
        "\n",
        "\n",
        "\n",
        "    img_path = 'DVDs/imgs/Good'+str(temp) + '.png'\n",
        "\n",
        "\n",
        "    dbScan(new_data_x, new_data_y,name='DBSCAN Good '+str(temp), eps=0.5, minpoint=3, flag=False)\n",
        "    dbScan1(new_data_x, new_data_y,name='DBSCAN Good with Manipulation '+str(temp), eps=1, minpoint=3, flag=False)\n",
        "    IForest(new_data_x,new_data_y,name='IF Good '+str(temp), samples=10,flag=False)\n",
        "    IForest1(new_data_x, new_data_y,name='IF with Manipulation Good '+str(temp), samples=20,flag=False)\n",
        "    MCD(new_data_x,new_data_y,name='MCD Good '+str(temp),contamination=0.3, flag=False)\n",
        "    MCD1(new_data_x,new_data_y, name='MCD with Manipulation Good '+str(temp),contamination=0.3, flag=False)\n"
      ],
      "metadata": {
        "id": "CHXBKQ47bpLH"
      },
      "execution_count": null,
      "outputs": []
    },
    {
      "cell_type": "code",
      "source": [
        "work1(1)"
      ],
      "metadata": {
        "id": "JiEikbOXgeR_",
        "colab": {
          "base_uri": "https://localhost:8080/",
          "height": 1000
        },
        "outputId": "27ae0fb8-836e-4905-dd7a-9cc1f0aae0d2"
      },
      "execution_count": null,
      "outputs": [
        {
          "output_type": "display_data",
          "data": {
            "text/plain": [
              "<Figure size 432x288 with 1 Axes>"
            ],
            "image/png": "[encoded data removed]"
          },
          "metadata": {
            "needs_background": "light"
          }
        },
        {
          "output_type": "stream",
          "name": "stdout",
          "text": [
            "The first item in the list was added to the list, after which the first item in the list was deleted.\n",
            "eps=1, minpoint=3\n"
          ]
        },
        {
          "output_type": "display_data",
          "data": {
            "text/plain": [
              "<Figure size 432x288 with 1 Axes>"
            ],
            "image/png": "[encoded data removed]"
          },
          "metadata": {
            "needs_background": "light"
          }
        },
        {
          "output_type": "display_data",
          "data": {
            "text/plain": [
              "<Figure size 432x288 with 1 Axes>"
            ],
            "image/png": "[encoded data removed]"
          },
          "metadata": {
            "needs_background": "light"
          }
        },
        {
          "output_type": "stream",
          "name": "stdout",
          "text": [
            "The first item in the list was added to the list, after which the first item in the list was deleted.\n",
            "Samples=20\n",
            "The orange dots are anomalies.\n"
          ]
        },
        {
          "output_type": "display_data",
          "data": {
            "text/plain": [
              "<Figure size 432x288 with 1 Axes>"
            ],
            "image/png": "[encoded data removed]"
          },
          "metadata": {
            "needs_background": "light"
          }
        },
        {
          "output_type": "display_data",
          "data": {
            "text/plain": [
              "<Figure size 432x288 with 1 Axes>"
            ],
            "image/png": "[encoded data removed]"
          },
          "metadata": {
            "needs_background": "light"
          }
        },
        {
          "output_type": "display_data",
          "data": {
            "text/plain": [
              "<Figure size 432x288 with 1 Axes>"
            ],
            "image/png": "[encoded data removed]"
          },
          "metadata": {
            "needs_background": "light"
          }
        }
      ]
    },
    {
      "cell_type": "code",
      "source": [
        "import numpy as np\n",
        "from sklearn.cluster import DBSCAN\n",
        "from sklearn.ensemble import IsolationForest\n",
        "import matplotlib.pyplot as plt\n",
        "from matplotlib.pylab import mpl\n",
        "from sklearn.covariance import EllipticEnvelope\n",
        "from numpy import quantile, where, random\n",
        "\n",
        "def dbScan2(data_x, data_y,name, eps, minpoint, flag=True): # DBSCAN\n",
        "\n",
        "    plt.clf()\n",
        "    data_y = np.array(data_y).reshape(-1, 1).astype('float32')\n",
        "    db = DBSCAN(eps=eps, min_samples=minpoint).fit(data_y)\n",
        "\n",
        "    labels = db.labels_\n",
        "    output = labels\n",
        "\n",
        "    minn = min(output)\n",
        "    if minn < 0:\n",
        "        output = output + -1*minn\n",
        "    maxn = max(output)\n",
        "\n",
        "    X, Y = [], []\n",
        "    for i in range(maxn+1):\n",
        "        X.append([])\n",
        "        Y.append([])\n",
        "    length = len(data_x)\n",
        "    mpl.rcParams['axes.unicode_minus'] = False  #\n",
        "    for i in range(length):\n",
        "        X[output[i]].append(data_x[i])\n",
        "        Y[output[i]].append(data_y[i])\n",
        "\n",
        "    if flag == False:\n",
        "        for i in range(maxn + 1):\n",
        "            plt.scatter(X[i], Y[i], s=10)\n",
        "\n",
        "    index = 0\n",
        "    for i in range(maxn + 1):\n",
        "        if len(X[index]) <= len(X[i]):\n",
        "            index = i\n",
        "    plt.plot(X[index], Y[index])\n",
        "    plt.xticks(rotation=90)\n",
        "    plt.title(name+' '+'DBSCAN')\n",
        "    plt.xlabel(\"Date\")\n",
        "    plt.ylabel(\"Price\")\n",
        "    plt.savefig('DBSCAN')\n",
        "    #print(img_path)\n",
        "    plt.show()\n",
        "\n",
        "def MCD2(data_x, data_y, name,contamination=0.02, flag=True):\n",
        "    '''\n",
        "    :param data_x:\n",
        "    :param data_y:\n",
        "    :param samples:\n",
        "    :return:\n",
        "    '''\n",
        "    plt.clf()\n",
        "    data_y = np.array(data_y).reshape(-1, 1).astype('float32')\n",
        "    #     clf = IsolationForest(max_samples=samples, random_state=42)\n",
        "    #     clf.fit(data_y)\n",
        "    elenv =     EllipticEnvelope(assume_centered=False, contamination=contamination, random_state=None,\n",
        "                     store_precision=True, support_fraction=None)\n",
        "    #data_y = np.array(data_y).reshape(-1, 1).astype('float32')\n",
        "    #clf = IsolationForest(max_samples=samples, random_state=42)\n",
        "    #clf.fit(data_y)\n",
        "    output = elenv.fit_predict(data_y)\n",
        "    #output = clf.predict(data_y)\n",
        "    output[output<0] = 0\n",
        "    X, Y = [], []\n",
        "    for i in range(2):\n",
        "        X.append([])\n",
        "        Y.append([])\n",
        "    length = len(data_x)\n",
        "\n",
        "    for i in range(length):\n",
        "        X[output[i]].append(data_x[i])\n",
        "        Y[output[i]].append(data_y[i])\n",
        "\n",
        "    mpl.rcParams['axes.unicode_minus'] = False  #\n",
        "\n",
        "    if flag == True:\n",
        "        if len(X[1]) != 0:\n",
        "            plt.scatter(X[1], Y[1], s=10)\n",
        "        else:\n",
        "            plt.scatter(X[0], Y[0], s=10)\n",
        "    else:\n",
        "        for i in range(2):\n",
        "            plt.scatter(X[i], Y[i], s=10)\n",
        "        if len(X[1]) != 0:\n",
        "            plt.plot(X[1], Y[1])\n",
        "        else:\n",
        "            plt.plot(X[0], Y[0])\n",
        "    plt.xticks(rotation=90)\n",
        "    plt.title(name+' '+'MCD')\n",
        "    plt.xlabel(\"Date\")\n",
        "    plt.ylabel(\"Price\")\n",
        "    plt.savefig('MCD')\n",
        "    #print(img_path)\n",
        "    plt.show()\n",
        "\n",
        "def IForest2(data_x, data_y,name, samples=5,flag=True):\n",
        "    '''\n",
        "    :param data_x:\n",
        "    :param data_y:\n",
        "    :param samples:\n",
        "    :return:\n",
        "    '''\n",
        "    plt.clf()\n",
        "    data_y = np.array(data_y).reshape(-1, 1).astype('float32')\n",
        "    clf = IsolationForest(max_samples=samples, random_state=42)\n",
        "    clf.fit(data_y)\n",
        "    output = clf.predict(data_y)\n",
        "    output[output<0] = 0\n",
        "    X, Y = [], []\n",
        "    for i in range(2):\n",
        "        X.append([])\n",
        "        Y.append([])\n",
        "    length = len(data_x)\n",
        "\n",
        "    for i in range(length):\n",
        "        X[output[i]].append(data_x[i])\n",
        "        Y[output[i]].append(data_y[i])\n",
        "\n",
        "    mpl.rcParams['axes.unicode_minus'] = False  #\n",
        "\n",
        "    if flag == True:\n",
        "        if len(X[1]) != 0:\n",
        "            plt.scatter(X[1], Y[1], s=10)\n",
        "        else:\n",
        "            plt.scatter(X[0], Y[0], s=10)\n",
        "    else:\n",
        "        for i in range(2):\n",
        "            plt.scatter(X[i], Y[i], s=10)\n",
        "        if len(X[1]) != 0:\n",
        "            plt.plot(X[1], Y[1])\n",
        "        else:\n",
        "            plt.plot(X[0], Y[0])\n",
        "    plt.xticks(rotation=90)\n",
        "    plt.title(name+' '+'IsolationForest')\n",
        "    plt.xlabel(\"Date\")\n",
        "    plt.ylabel(\"Price\")\n",
        "    plt.savefig('Iforest')\n",
        "    # print(img_path)\n",
        "    plt.show()"
      ],
      "metadata": {
        "id": "Wx1G1O36c0FM"
      },
      "execution_count": null,
      "outputs": []
    },
    {
      "cell_type": "code",
      "source": [
        "def work2(number_): # Divide data into classes\n",
        "    # Date = ['2018-10', '2018-11', '2018-12', '2019-01', '2019-02', '2019-03', '2019-04']\n",
        "    Date = ['2018-10', '2018-11', '2018-12', '2019-01', '2019-02', '2019-03', '2019-04',\n",
        "            '2019-05', '2019-06', '2019-07', '2019-08', '2019-09', '2019-10', '2019-11',\n",
        "            '2019-12', '2020-01', '2020-02', '2020-03', '2020-04', '2020-05']\n",
        "    x, y, z = [], [], []\n",
        "    model = loadModel( 'DVDs/groups.pkl')\n",
        "    path = 'DVDs/'\n",
        "    for j in Date:\n",
        "        temp_path = path + str(j) + '/' + str(j) + '.pkl'\n",
        "        date = pk.load(open(temp_path, 'rb'))['date']\n",
        "        vector = pk.load(open(temp_path, 'rb'))['vector']\n",
        "        price = pk.load(open(temp_path, 'rb'))['price']\n",
        "        length = len(date)\n",
        "        for k in range(length):\n",
        "            x.append(date[k])\n",
        "            y.append(vector[k])\n",
        "            z.append(price[k])\n",
        "    y_pred = model.fit_predict(y)\n",
        "    minn = min(y_pred)\n",
        "    if minn < 0:\n",
        "        y_pred = y_pred + -1 * minn\n",
        "    maxn = max(y_pred)\n",
        "    temp = number_\n",
        "    #for temp in range(1, maxn+1):\n",
        "    data_x, data_y = [], []\n",
        "    for i in range(len(y_pred)):\n",
        "        if y_pred[i] == temp:\n",
        "            data_x.append(x[i][2:-3])\n",
        "            data_y.append(z[i])\n",
        "        new_data=[]\n",
        "    for i in range(len(data_y)):\n",
        "        new_data.append([data_x[i],data_y[i]])\n",
        "    list_18=[]\n",
        "    list_19=[]\n",
        "    list_20=[]\n",
        "    for i in range(len(new_data)):\n",
        "      if int(new_data[i][0][0:2])==18:\n",
        "        list_18.append(new_data[i])\n",
        "      if int(new_data[i][0][0:2])==19:\n",
        "        list_19.append(new_data[i])\n",
        "      if int(new_data[i][0][0:2])==20:\n",
        "        list_20.append(new_data[i])\n",
        "    \n",
        "    list_18_01=[]\n",
        "    list_18_02=[]\n",
        "    list_18_03=[]\n",
        "    list_18_04=[]\n",
        "    list_18_05=[]\n",
        "    list_18_06=[]\n",
        "    list_18_07=[]\n",
        "    list_18_08=[]\n",
        "    list_18_09=[]\n",
        "    list_18_10=[]\n",
        "    list_18_11=[]\n",
        "    list_18_12=[]\n",
        "\n",
        "    for i in range(len(list_18)):\n",
        "      if int(list_18[i][0][3:5])==int(0x1):\n",
        "        list_18_01.append(list_18[i])\n",
        "      elif int(list_18[i][0][3:5])==int(0x2):\n",
        "        list_18_02.append(list_18[i])\n",
        "      elif int(list_18[i][0][3:5])==int(0x3):\n",
        "        list_18_03.append(list_18[i])\n",
        "      elif int(list_18[i][0][3:5])==int(0x4):\n",
        "        list_18_04.append(list_18[i])  \n",
        "      elif int(list_18[i][0][3:5])==int(0x5):\n",
        "        list_18_05.append(list_18[i])\n",
        "      elif int(list_18[i][0][3:5])==int(0x6):\n",
        "        list_18_06.append(list_18[i])\n",
        "      elif int(list_18[i][0][3:5])==int(0x7):\n",
        "        list_18_07.append(list_18[i])\n",
        "      elif int(list_18[i][0][3:5])==int(0x8):\n",
        "        list_18_08.append(list_18[i])\n",
        "      elif int(list_18[i][0][3:5])==int(0x9):\n",
        "        list_18_09.append(list_18[i])\n",
        "      elif int(list_18[i][0][3:5])==10:\n",
        "        list_18_10.append(list_18[i])\n",
        "      elif int(list_18[i][0][3:5])==11:\n",
        "        list_18_11.append(list_18[i])\n",
        "      elif int(list_18[i][0][3:5])==12:\n",
        "        list_18_12.append(list_18[i])\n",
        "\n",
        "    list_19_01=[]\n",
        "    list_19_02=[]\n",
        "    list_19_03=[]\n",
        "    list_19_04=[]\n",
        "    list_19_05=[]\n",
        "    list_19_06=[]\n",
        "    list_19_07=[]\n",
        "    list_19_08=[]\n",
        "    list_19_09=[]\n",
        "    list_19_10=[]\n",
        "    list_19_11=[]\n",
        "    list_19_12=[]\n",
        "\n",
        "    for i in range(len(list_19)):\n",
        "      if int(list_19[i][0][3:5])==int(0x1):\n",
        "        list_19_01.append(list_19[i])\n",
        "      elif int(list_19[i][0][3:5])==int(0x2):\n",
        "        list_19_02.append(list_19[i])\n",
        "      elif int(list_19[i][0][3:5])==int(0x3):\n",
        "        list_19_03.append(list_19[i])\n",
        "      elif int(list_19[i][0][3:5])==int(0x4):\n",
        "        list_19_04.append(list_19[i])  \n",
        "      elif int(list_19[i][0][3:5])==int(0x5):\n",
        "        list_19_05.append(list_19[i])\n",
        "      elif int(list_19[i][0][3:5])==int(0x6):\n",
        "        list_19_06.append(list_19[i])\n",
        "      elif int(list_19[i][0][3:5])==int(0x7):\n",
        "        list_19_07.append(list_19[i])\n",
        "      elif int(list_19[i][0][3:5])==int(0x8):\n",
        "        list_19_08.append(list_19[i])\n",
        "      elif int(list_19[i][0][3:5])==int(0x9):\n",
        "        list_19_09.append(list_19[i])\n",
        "      elif int(list_19[i][0][3:5])==10:\n",
        "        list_19_10.append(list_19[i])\n",
        "      elif int(list_19[i][0][3:5])==11:\n",
        "        list_19_11.append(list_19[i])\n",
        "      elif int(list_19[i][0][3:5])==12:\n",
        "        list_19_12.append(list_19[i])\n",
        "\n",
        "\n",
        "    list_20_01=[]\n",
        "    list_20_02=[]\n",
        "    list_20_03=[]\n",
        "    list_20_04=[]\n",
        "    list_20_05=[]\n",
        "    list_20_06=[]\n",
        "    list_20_07=[]\n",
        "    list_20_08=[]\n",
        "    list_20_09=[]\n",
        "    list_20_10=[]\n",
        "    list_20_11=[]\n",
        "    list_20_12=[]\n",
        "\n",
        "    for i in range(len(list_20)):\n",
        "      if int(list_20[i][0][3:5])==int(0x1):\n",
        "        list_20_01.append(list_20[i])\n",
        "      elif int(list_20[i][0][3:5])==int(0x2):\n",
        "        list_20_02.append(list_20[i])\n",
        "      elif int(list_20[i][0][3:5])==int(0x3):\n",
        "        list_20_03.append(list_20[i])\n",
        "      elif int(list_20[i][0][3:5])==int(0x4):\n",
        "        list_20_04.append(list_20[i])  \n",
        "      elif int(list_20[i][0][3:5])==int(0x5):\n",
        "        list_20_05.append(list_20[i])\n",
        "      elif int(list_20[i][0][3:5])==int(0x6):\n",
        "        list_20_06.append(list_20[i])\n",
        "      elif int(list_20[i][0][3:5])==int(0x7):\n",
        "        list_20_07.append(list_20[i])\n",
        "      elif int(list_20[i][0][3:5])==int(0x8):\n",
        "        list_20_08.append(list_20[i])\n",
        "      elif int(list_20[i][0][3:5])==int(0x9):\n",
        "        list_20_09.append(list_20[i])\n",
        "      elif int(list_20[i][0][3:5])==10:\n",
        "        list_20_10.append(list_20[i])\n",
        "      elif int(list_20[i][0][3:5])==11:\n",
        "        list_20_11.append(list_20[i])\n",
        "      elif int(list_20[i][0][3:5])==12:\n",
        "        list_20_12.append(list_20[i])\n",
        "\n",
        "    new_data_x, new_data_y = [],[]\n",
        "    end_new_data=list_18_01+list_18_02+list_18_03+list_18_04+list_18_05+list_18_06+list_18_07+list_18_08+list_18_09+list_18_10+list_18_11+list_18_12+list_19_01+list_19_02+list_19_03+list_19_04+list_19_05+list_19_06+list_19_07+list_19_08+list_19_09+list_19_10+list_19_11+list_19_12+list_20_01\n",
        "    for i in range(len(end_new_data)):\n",
        "      new_data_x.append(end_new_data[i][0])\n",
        "      new_data_y.append(end_new_data[i][1])\n",
        "\n",
        "\n",
        "    #print(x[0])\n",
        "    img_path = 'DVDs/imgs/Good'+str(temp) + '.png'\n",
        "\n",
        "    #filter_out(data_x, data_y, name=temp, img_path=img_path)\n",
        "    #dbScan(data_x, data_y, eps=0.5, minpoint=3, img_path=img_path)\n",
        "    #MCD_filter_out(data_x,data_y,name=temp,contamination=0.02)\n",
        "    #MCD(data_x, data_y, contamination=0.3)\n",
        "    #IForest(data_x, data_y, samples=5)\n",
        "    dbScan(new_data_x, new_data_y,name='DBSCAN Good '+str(temp), eps=0.5, minpoint=3, flag=False)\n",
        "    dbScan2(new_data_x, new_data_y,name='DBSCAN Good with Manipulation '+str(temp), eps=1, minpoint=3, flag=False)\n",
        "    IForest(new_data_x,new_data_y,name='IF Good '+str(temp), samples=10,flag=False)\n",
        "    IForest2(new_data_x, new_data_y,name='IF with Manipulation Good '+str(temp), samples=4,flag=False)\n",
        "    MCD(new_data_x,new_data_y,name='MCD Good '+str(temp),contamination=0.3, flag=False)\n",
        "    MCD2(new_data_x,new_data_y, name='MCD with Manipulation Good '+str(temp),contamination=0.3, flag=False)\n",
        "    #IForest(data_x, data_y, name='IF Good'+str(temp)+'.png', samples=10, flag=False)\n",
        "    #IForest(new_data_x, new_data_y, name='IF Good'+str(temp)+'.png', samples=10, flag=False)\n",
        "    #MCD(data_x, data_y, name='MCD Good'+str(temp)+'.png', contamination=0.3, flag=False)"
      ],
      "metadata": {
        "id": "sUHnp7YcdTlT"
      },
      "execution_count": null,
      "outputs": []
    },
    {
      "cell_type": "code",
      "source": [
        "work2(9)"
      ],
      "metadata": {
        "colab": {
          "base_uri": "https://localhost:8080/",
          "height": 1000
        },
        "id": "2jTGm3NleVOD",
        "outputId": "611aa04a-5394-49f3-b9a7-98a6ff9cd120"
      },
      "execution_count": null,
      "outputs": [
        {
          "output_type": "display_data",
          "data": {
            "text/plain": [
              "<Figure size 432x288 with 1 Axes>"
            ],
            "image/png": "[encoded data removed]"
          },
          "metadata": {
            "needs_background": "light"
          }
        },
        {
          "output_type": "display_data",
          "data": {
            "text/plain": [
              "<Figure size 432x288 with 1 Axes>"
            ],
            "image/png": "[encoded data removed]"
          },
          "metadata": {
            "needs_background": "light"
          }
        },
        {
          "output_type": "display_data",
          "data": {
            "text/plain": [
              "<Figure size 432x288 with 1 Axes>"
            ],
            "image/png": "[encoded data removed]"
          },
          "metadata": {
            "needs_background": "light"
          }
        },
        {
          "output_type": "display_data",
          "data": {
            "text/plain": [
              "<Figure size 432x288 with 1 Axes>"
            ],
            "image/png": "[encoded data removed]"
          },
          "metadata": {
            "needs_background": "light"
          }
        },
        {
          "output_type": "display_data",
          "data": {
            "text/plain": [
              "<Figure size 432x288 with 1 Axes>"
            ],
            "image/png": "[encoded data removed]"
          },
          "metadata": {
            "needs_background": "light"
          }
        },
        {
          "output_type": "display_data",
          "data": {
            "text/plain": [
              "<Figure size 432x288 with 1 Axes>"
            ],
            "image/png": "[encoded data removed]"
          },
          "metadata": {
            "needs_background": "light"
          }
        }
      ]
    },
    {
      "cell_type": "code",
      "source": [
        "import numpy as np\n",
        "from sklearn.cluster import DBSCAN\n",
        "from sklearn.ensemble import IsolationForest\n",
        "import matplotlib.pyplot as plt\n",
        "from matplotlib.pylab import mpl\n",
        "from sklearn.covariance import EllipticEnvelope\n",
        "from numpy import quantile, where, random\n",
        "\n",
        "def dbScan3(data_x, data_y,name, eps, minpoint, flag=True): # DBSCAN\n",
        "\n",
        "    plt.clf()\n",
        "    data_y = np.array(data_y).reshape(-1, 1).astype('float32')\n",
        "    db = DBSCAN(eps=eps, min_samples=minpoint).fit(data_y)\n",
        "\n",
        "    labels = db.labels_\n",
        "    output = labels\n",
        "\n",
        "    minn = min(output)\n",
        "    if minn < 0:\n",
        "        output = output + -1*minn\n",
        "    maxn = max(output)\n",
        "\n",
        "    X, Y = [], []\n",
        "    for i in range(maxn+1):\n",
        "        X.append([])\n",
        "        Y.append([])\n",
        "    length = len(data_x)\n",
        "    mpl.rcParams['axes.unicode_minus'] = False  #\n",
        "    for i in range(length):\n",
        "        X[output[i]].append(data_x[i])\n",
        "        Y[output[i]].append(data_y[i])\n",
        "\n",
        "    if flag == False:\n",
        "        for i in range(maxn + 1):\n",
        "            plt.scatter(X[i], Y[i], s=10)\n",
        "\n",
        "    index = 0\n",
        "    for i in range(maxn + 1):\n",
        "        if len(X[index]) <= len(X[i]):\n",
        "            index = i\n",
        "    plt.plot(X[index], Y[index])\n",
        "    plt.xticks(rotation=90)\n",
        "    plt.title(name+' '+'DBSCAN')\n",
        "    plt.xlabel(\"Date\")\n",
        "    plt.ylabel(\"Price\")\n",
        "    plt.savefig('DBSCAN')\n",
        "    #print(img_path)\n",
        "    plt.show()\n",
        "\n",
        "def MCD3(data_x, data_y, name,contamination=0.02, flag=True):\n",
        "    '''\n",
        "    :param data_x:\n",
        "    :param data_y:\n",
        "    :param samples:\n",
        "    :return:\n",
        "    '''\n",
        "    plt.clf()\n",
        "    data_y = np.array(data_y).reshape(-1, 1).astype('float32')\n",
        "    #     clf = IsolationForest(max_samples=samples, random_state=42)\n",
        "    #     clf.fit(data_y)\n",
        "    elenv =     EllipticEnvelope(assume_centered=False, contamination=contamination, random_state=None,\n",
        "                     store_precision=True, support_fraction=None)\n",
        "    #data_y = np.array(data_y).reshape(-1, 1).astype('float32')\n",
        "    #clf = IsolationForest(max_samples=samples, random_state=42)\n",
        "    #clf.fit(data_y)\n",
        "    output = elenv.fit_predict(data_y)\n",
        "    #output = clf.predict(data_y)\n",
        "    output[output<0] = 0\n",
        "    X, Y = [], []\n",
        "    for i in range(2):\n",
        "        X.append([])\n",
        "        Y.append([])\n",
        "    length = len(data_x)\n",
        "\n",
        "    for i in range(length):\n",
        "        X[output[i]].append(data_x[i])\n",
        "        Y[output[i]].append(data_y[i])\n",
        "\n",
        "    mpl.rcParams['axes.unicode_minus'] = False  #\n",
        "    X.append(X[0])\n",
        "    Y.append(Y[0])\n",
        "    X.pop(0)\n",
        "    Y.pop(0)\n",
        "    print(\"The first element from the list was added to the end of the list again and the first element is then removed\")\n",
        "    if flag == True:\n",
        "        if len(X[1]) != 0:\n",
        "            plt.scatter(X[1], Y[1], s=10)\n",
        "        else:\n",
        "            plt.scatter(X[0], Y[0], s=10)\n",
        "    else:\n",
        "        for i in range(2):\n",
        "            plt.scatter(X[i], Y[i], s=10)\n",
        "        if len(X[1]) != 0:\n",
        "            plt.plot(X[0], Y[0])\n",
        "        else:\n",
        "            plt.plot(X[1], Y[1])\n",
        "    plt.xticks(rotation=90)\n",
        "    plt.title(name+' '+'MCD')\n",
        "    plt.xlabel(\"Date\")\n",
        "    plt.ylabel(\"Price\")\n",
        "    plt.savefig('MCD')\n",
        "    #print(img_path)\n",
        "    plt.show()\n",
        "\n",
        "def IForest3(data_x, data_y,name, samples=5,flag=True):\n",
        "    '''\n",
        "    :param data_x:\n",
        "    :param data_y:\n",
        "    :param samples:\n",
        "    :return:\n",
        "    '''\n",
        "    plt.clf()\n",
        "    data_y = np.array(data_y).reshape(-1, 1).astype('float32')\n",
        "    clf = IsolationForest(max_samples=samples, random_state=42)\n",
        "    clf.fit(data_y)\n",
        "    output = clf.predict(data_y)\n",
        "    output[output<0] = 0\n",
        "    X, Y = [], []\n",
        "    for i in range(2):\n",
        "        X.append([])\n",
        "        Y.append([])\n",
        "    length = len(data_x)\n",
        "\n",
        "    for i in range(length):\n",
        "        X[output[i]].append(data_x[i])\n",
        "        Y[output[i]].append(data_y[i])\n",
        "\n",
        "    mpl.rcParams['axes.unicode_minus'] = False  #\n",
        "    X.append(X[0])\n",
        "    Y.append(Y[0])\n",
        "    X.pop(0)\n",
        "    Y.pop(0)\n",
        "    print(\"The first element from the list was added to the end of the list again and the first element is then removed.\")\n",
        "    print(\"samples = 4\")\n",
        "    if flag == True:\n",
        "        if len(X[1]) != 0:\n",
        "            plt.scatter(X[1], Y[1], s=10)\n",
        "        else:\n",
        "            plt.scatter(X[0], Y[0], s=10)\n",
        "    else:\n",
        "        for i in range(2):\n",
        "            plt.scatter(X[i], Y[i], s=10)\n",
        "        if len(X[1]) != 0:\n",
        "            plt.plot(X[0], Y[0])\n",
        "        else:\n",
        "            plt.plot(X[1], Y[1])\n",
        "    plt.xticks(rotation=90)\n",
        "    plt.title(name+' '+'IsolationForest')\n",
        "    plt.xlabel(\"Date\")\n",
        "    plt.ylabel(\"Price\")\n",
        "    plt.savefig('Iforest')\n",
        "    # print(img_path)\n",
        "    plt.show()"
      ],
      "metadata": {
        "id": "3c5y5pREvWE_"
      },
      "execution_count": null,
      "outputs": []
    },
    {
      "cell_type": "code",
      "source": [
        "def work3(number_): # Divide data into classes\n",
        "    # Date = ['2018-10', '2018-11', '2018-12', '2019-01', '2019-02', '2019-03', '2019-04']\n",
        "    Date = ['2018-10', '2018-11', '2018-12', '2019-01', '2019-02', '2019-03', '2019-04',\n",
        "            '2019-05', '2019-06', '2019-07', '2019-08', '2019-09', '2019-10', '2019-11',\n",
        "            '2019-12', '2020-01', '2020-02', '2020-03', '2020-04', '2020-05']\n",
        "    x, y, z = [], [], []\n",
        "    model = loadModel( 'DVDs/groups.pkl')\n",
        "    path = 'DVDs/'\n",
        "    for j in Date:\n",
        "        temp_path = path + str(j) + '/' + str(j) + '.pkl'\n",
        "        date = pk.load(open(temp_path, 'rb'))['date']\n",
        "        vector = pk.load(open(temp_path, 'rb'))['vector']\n",
        "        price = pk.load(open(temp_path, 'rb'))['price']\n",
        "        length = len(date)\n",
        "        for k in range(length):\n",
        "            x.append(date[k])\n",
        "            y.append(vector[k])\n",
        "            z.append(price[k])\n",
        "    y_pred = model.fit_predict(y)\n",
        "    minn = min(y_pred)\n",
        "    if minn < 0:\n",
        "        y_pred = y_pred + -1 * minn\n",
        "    maxn = max(y_pred)\n",
        "    temp = number_\n",
        "    #for temp in range(1, maxn+1):\n",
        "    data_x, data_y = [], []\n",
        "    for i in range(len(y_pred)):\n",
        "        if y_pred[i] == temp:\n",
        "            data_x.append(x[i][2:-3])\n",
        "            data_y.append(z[i])\n",
        "        new_data=[]\n",
        "    for i in range(len(data_y)):\n",
        "        new_data.append([data_x[i],data_y[i]])\n",
        "    list_18=[]\n",
        "    list_19=[]\n",
        "    list_20=[]\n",
        "    for i in range(len(new_data)):\n",
        "      if int(new_data[i][0][0:2])==18:\n",
        "        list_18.append(new_data[i])\n",
        "      if int(new_data[i][0][0:2])==19:\n",
        "        list_19.append(new_data[i])\n",
        "      if int(new_data[i][0][0:2])==20:\n",
        "        list_20.append(new_data[i])\n",
        "    \n",
        "    list_18_01=[]\n",
        "    list_18_02=[]\n",
        "    list_18_03=[]\n",
        "    list_18_04=[]\n",
        "    list_18_05=[]\n",
        "    list_18_06=[]\n",
        "    list_18_07=[]\n",
        "    list_18_08=[]\n",
        "    list_18_09=[]\n",
        "    list_18_10=[]\n",
        "    list_18_11=[]\n",
        "    list_18_12=[]\n",
        "\n",
        "    for i in range(len(list_18)):\n",
        "      if int(list_18[i][0][3:5])==int(0x1):\n",
        "        list_18_01.append(list_18[i])\n",
        "      elif int(list_18[i][0][3:5])==int(0x2):\n",
        "        list_18_02.append(list_18[i])\n",
        "      elif int(list_18[i][0][3:5])==int(0x3):\n",
        "        list_18_03.append(list_18[i])\n",
        "      elif int(list_18[i][0][3:5])==int(0x4):\n",
        "        list_18_04.append(list_18[i])  \n",
        "      elif int(list_18[i][0][3:5])==int(0x5):\n",
        "        list_18_05.append(list_18[i])\n",
        "      elif int(list_18[i][0][3:5])==int(0x6):\n",
        "        list_18_06.append(list_18[i])\n",
        "      elif int(list_18[i][0][3:5])==int(0x7):\n",
        "        list_18_07.append(list_18[i])\n",
        "      elif int(list_18[i][0][3:5])==int(0x8):\n",
        "        list_18_08.append(list_18[i])\n",
        "      elif int(list_18[i][0][3:5])==int(0x9):\n",
        "        list_18_09.append(list_18[i])\n",
        "      elif int(list_18[i][0][3:5])==10:\n",
        "        list_18_10.append(list_18[i])\n",
        "      elif int(list_18[i][0][3:5])==11:\n",
        "        list_18_11.append(list_18[i])\n",
        "      elif int(list_18[i][0][3:5])==12:\n",
        "        list_18_12.append(list_18[i])\n",
        "\n",
        "    list_19_01=[]\n",
        "    list_19_02=[]\n",
        "    list_19_03=[]\n",
        "    list_19_04=[]\n",
        "    list_19_05=[]\n",
        "    list_19_06=[]\n",
        "    list_19_07=[]\n",
        "    list_19_08=[]\n",
        "    list_19_09=[]\n",
        "    list_19_10=[]\n",
        "    list_19_11=[]\n",
        "    list_19_12=[]\n",
        "\n",
        "    for i in range(len(list_19)):\n",
        "      if int(list_19[i][0][3:5])==int(0x1):\n",
        "        list_19_01.append(list_19[i])\n",
        "      elif int(list_19[i][0][3:5])==int(0x2):\n",
        "        list_19_02.append(list_19[i])\n",
        "      elif int(list_19[i][0][3:5])==int(0x3):\n",
        "        list_19_03.append(list_19[i])\n",
        "      elif int(list_19[i][0][3:5])==int(0x4):\n",
        "        list_19_04.append(list_19[i])  \n",
        "      elif int(list_19[i][0][3:5])==int(0x5):\n",
        "        list_19_05.append(list_19[i])\n",
        "      elif int(list_19[i][0][3:5])==int(0x6):\n",
        "        list_19_06.append(list_19[i])\n",
        "      elif int(list_19[i][0][3:5])==int(0x7):\n",
        "        list_19_07.append(list_19[i])\n",
        "      elif int(list_19[i][0][3:5])==int(0x8):\n",
        "        list_19_08.append(list_19[i])\n",
        "      elif int(list_19[i][0][3:5])==int(0x9):\n",
        "        list_19_09.append(list_19[i])\n",
        "      elif int(list_19[i][0][3:5])==10:\n",
        "        list_19_10.append(list_19[i])\n",
        "      elif int(list_19[i][0][3:5])==11:\n",
        "        list_19_11.append(list_19[i])\n",
        "      elif int(list_19[i][0][3:5])==12:\n",
        "        list_19_12.append(list_19[i])\n",
        "\n",
        "\n",
        "    list_20_01=[]\n",
        "    list_20_02=[]\n",
        "    list_20_03=[]\n",
        "    list_20_04=[]\n",
        "    list_20_05=[]\n",
        "    list_20_06=[]\n",
        "    list_20_07=[]\n",
        "    list_20_08=[]\n",
        "    list_20_09=[]\n",
        "    list_20_10=[]\n",
        "    list_20_11=[]\n",
        "    list_20_12=[]\n",
        "\n",
        "    for i in range(len(list_20)):\n",
        "      if int(list_20[i][0][3:5])==int(0x1):\n",
        "        list_20_01.append(list_20[i])\n",
        "      elif int(list_20[i][0][3:5])==int(0x2):\n",
        "        list_20_02.append(list_20[i])\n",
        "      elif int(list_20[i][0][3:5])==int(0x3):\n",
        "        list_20_03.append(list_20[i])\n",
        "      elif int(list_20[i][0][3:5])==int(0x4):\n",
        "        list_20_04.append(list_20[i])  \n",
        "      elif int(list_20[i][0][3:5])==int(0x5):\n",
        "        list_20_05.append(list_20[i])\n",
        "      elif int(list_20[i][0][3:5])==int(0x6):\n",
        "        list_20_06.append(list_20[i])\n",
        "      elif int(list_20[i][0][3:5])==int(0x7):\n",
        "        list_20_07.append(list_20[i])\n",
        "      elif int(list_20[i][0][3:5])==int(0x8):\n",
        "        list_20_08.append(list_20[i])\n",
        "      elif int(list_20[i][0][3:5])==int(0x9):\n",
        "        list_20_09.append(list_20[i])\n",
        "      elif int(list_20[i][0][3:5])==10:\n",
        "        list_20_10.append(list_20[i])\n",
        "      elif int(list_20[i][0][3:5])==11:\n",
        "        list_20_11.append(list_20[i])\n",
        "      elif int(list_20[i][0][3:5])==12:\n",
        "        list_20_12.append(list_20[i])\n",
        "\n",
        "    new_data_x, new_data_y = [],[]\n",
        "    end_new_data=list_18_01+list_18_02+list_18_03+list_18_04+list_18_05+list_18_06+list_18_07+list_18_08+list_18_09+list_18_10+list_18_11+list_18_12+list_19_01+list_19_02+list_19_03+list_19_04+list_19_05+list_19_06+list_19_07+list_19_08+list_19_09+list_19_10+list_19_11+list_19_12+list_20_01\n",
        "    for i in range(len(end_new_data)):\n",
        "      new_data_x.append(end_new_data[i][0])\n",
        "      new_data_y.append(end_new_data[i][1])\n",
        "\n",
        "\n",
        "    #print(x[0])\n",
        "    img_path = 'DVDs/imgs/Good'+str(temp) + '.png'\n",
        "\n",
        "    #filter_out(data_x, data_y, name=temp, img_path=img_path)\n",
        "    #dbScan(data_x, data_y, eps=0.5, minpoint=3, img_path=img_path)\n",
        "    #MCD_filter_out(data_x,data_y,name=temp,contamination=0.02)\n",
        "    #MCD(data_x, data_y, contamination=0.3)\n",
        "    #IForest(data_x, data_y, samples=5)\n",
        "    dbScan(new_data_x, new_data_y,name='DBSCAN Good '+str(temp), eps=0.5, minpoint=3, flag=False)\n",
        "    dbScan3(new_data_x, new_data_y,name='DBSCAN Good with Manipulation '+str(temp), eps=4, minpoint=3, flag=False)\n",
        "    IForest(new_data_x,new_data_y,name='IF Good '+str(temp), samples=10,flag=False)\n",
        "    IForest3(new_data_x, new_data_y,name='IF with Manipulation Good '+str(temp), samples=4,flag=False)\n",
        "    MCD(new_data_x,new_data_y,name='MCD Good '+str(temp),contamination=0.3, flag=False)\n",
        "    MCD3(new_data_x,new_data_y, name='MCD with Manipulation Good '+str(temp),contamination=0.3, flag=False)\n",
        "    #IForest(data_x, data_y, name='IF Good'+str(temp)+'.png', samples=10, flag=False)\n",
        "    #IForest(new_data_x, new_data_y, name='IF Good'+str(temp)+'.png', samples=10, flag=False)\n",
        "    #MCD(data_x, data_y, name='MCD Good'+str(temp)+'.png', contamination=0.3, flag=False)"
      ],
      "metadata": {
        "id": "KY2TM0iRvRRY"
      },
      "execution_count": null,
      "outputs": []
    },
    {
      "cell_type": "code",
      "source": [
        "work3(20)"
      ],
      "metadata": {
        "colab": {
          "base_uri": "https://localhost:8080/",
          "height": 1000
        },
        "id": "qTCX4lyxvoeK",
        "outputId": "6f22ae89-5d0a-4408-eaa1-968a11a8ca19"
      },
      "execution_count": null,
      "outputs": [
        {
          "output_type": "display_data",
          "data": {
            "text/plain": [
              "<Figure size 432x288 with 1 Axes>"
            ],
            "image/png": "[encoded data removed]"
          },
          "metadata": {
            "needs_background": "light"
          }
        },
        {
          "output_type": "display_data",
          "data": {
            "text/plain": [
              "<Figure size 432x288 with 1 Axes>"
            ],
            "image/png": "[encoded data removed]"
          },
          "metadata": {
            "needs_background": "light"
          }
        },
        {
          "output_type": "display_data",
          "data": {
            "text/plain": [
              "<Figure size 432x288 with 1 Axes>"
            ],
            "image/png": "[encoded data removed]"
          },
          "metadata": {
            "needs_background": "light"
          }
        },
        {
          "output_type": "stream",
          "name": "stdout",
          "text": [
            "The first element from the list was added to the end of the list again and the first element is then removed.\n",
            "samples = 4\n"
          ]
        },
        {
          "output_type": "display_data",
          "data": {
            "text/plain": [
              "<Figure size 432x288 with 1 Axes>"
            ],
            "image/png": "[encoded data removed]"
          },
          "metadata": {
            "needs_background": "light"
          }
        },
        {
          "output_type": "display_data",
          "data": {
            "text/plain": [
              "<Figure size 432x288 with 1 Axes>"
            ],
            "image/png": "[encoded data removed]"
          },
          "metadata": {
            "needs_background": "light"
          }
        },
        {
          "output_type": "stream",
          "name": "stdout",
          "text": [
            "The first element from the list was added to the end of the list again and the first element is then removed\n"
          ]
        },
        {
          "output_type": "display_data",
          "data": {
            "text/plain": [
              "<Figure size 432x288 with 1 Axes>"
            ],
            "image/png": "[encoded data removed]"
          },
          "metadata": {
            "needs_background": "light"
          }
        }
      ]
    }
  ]
}